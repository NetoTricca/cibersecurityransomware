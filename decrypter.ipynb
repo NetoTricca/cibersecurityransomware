{
 "cells": [
  {
   "cell_type": "code",
   "execution_count": null,
   "id": "6b5756cb",
   "metadata": {},
   "outputs": [],
   "source": [
    "import os\n",
    "import pyaes\n",
    "\n",
    "## abrir o arquivo criptografado\n",
    "file_name = \"teste.txt.ransomwaretroll\"\n",
    "file = open(file_name, \"rb\")\n",
    "file_data = file.read()\n",
    "file.close()\n",
    "\n",
    "## chave para descriptografia\n",
    "key = b\"testeransomwares\"\n",
    "aes = pyaes.AESModeOfOperationCTR(key)\n",
    "decrypt_data = aes.decrypt(file_data)\n",
    "\n",
    "## remover o arquivo criptografado\n",
    "os.remove(file_name)\n",
    "\n",
    "## criar o arquivo descriptografado\n",
    "new_file = \"teste.txt\"\n",
    "new_file = open(f'{new_file}', \"wb\")\n",
    "new_file.write(decrypt_data)\n",
    "new_file.close()"
   ]
  }
 ],
 "metadata": {
  "kernelspec": {
   "display_name": "Python 3 (ipykernel)",
   "language": "python",
   "name": "python3"
  },
  "language_info": {
   "codemirror_mode": {
    "name": "ipython",
    "version": 3
   },
   "file_extension": ".py",
   "mimetype": "text/x-python",
   "name": "python",
   "nbconvert_exporter": "python",
   "pygments_lexer": "ipython3",
   "version": "3.9.7"
  }
 },
 "nbformat": 4,
 "nbformat_minor": 5
}
